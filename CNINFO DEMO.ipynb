{
 "cells": [
  {
   "cell_type": "code",
   "execution_count": null,
   "id": "lyric-decision",
   "metadata": {},
   "outputs": [],
   "source": [
    "import requests\n",
    "import time\n",
    "from datetime import datetime, timedelta\n",
    "import json\n",
    "import urllib.request\n",
    "import os\n",
    "import urllib.parse"
   ]
  },
  {
   "cell_type": "code",
   "execution_count": null,
   "id": "helpful-stockholm",
   "metadata": {},
   "outputs": [],
   "source": [
    "today = datetime.now()\n",
    "yesterday = today - timedelta(days=1)\n",
    "print(today.strftime('%Y-%m-%d'), yesterday.strftime('%Y-%m-%d'))\n",
    "\n",
    "if not os.path.exists(today.strftime('%Y-%m-%d')):\n",
    "    os.makedirs(today.strftime('%Y-%m-%d'))"
   ]
  },
  {
   "cell_type": "code",
   "execution_count": null,
   "id": "meaning-combine",
   "metadata": {},
   "outputs": [],
   "source": [
    "# CNINFO's metadata\n",
    "UA = \"Mozilla/5.0 (Windows NT 10.0; Win64; x64) AppleWebKit/537.36 (KHTML, like Gecko) Chrome/90.0.4430.212 Safari/537.36\"\n",
    "URL_JUCHAO = 'http://www.cninfo.com.cn/new/hisAnnouncement/query'\n",
    "\n",
    "HEADER = {\n",
    "    \"User-Agent\" : UA,\n",
    "    \"Origin\"       : \"http://www.cninfo.com.cn\",\n",
    "    \"Referer\": \"http://www.cninfo.com.cn/new/commonUrl/pageOfSearch?url=disclosure/list/search&lastPage=index\",\n",
    "#     \"Upgrade-Insecure-Requests\": \"1\",\n",
    "    \"Cookie\": \"JSESSIONID=BED249E810CBFB8FD1591D8E2A3C6C3F; _sp_ses.2141=*; _sp_id.2141=6e8c8a15-2bef-44da-85ef-7a61731b0422.1623140236.1.1623140256.1623140236.0ad58ae7-a29c-426c-b11a-4e04ebdd1d9f; routeId=.uc1\",\n",
    "    \"Content-Type\": \"application/x-www-form-urlencoded; charset=UTF-8\",\n",
    "    \"X-Requested-With\": \"XMLHttpRequest\",\n",
    "    \"Connection\": \"keep-alive\"\n",
    "}\n",
    "\n",
    "# pageNum: current page\n",
    "# searchKey: 回购, etc.\n",
    "# seDate: 开始~结束\n",
    "str_parameter = \"pageNum={}&pageSize=30&column=szse&tabName=fulltext&plate=&stock=&searchkey=\" + urllib.parse.quote('回购') + \"&secid=&category=&trade=&seDate={}~{}&sortName=&sortType=&isHLtitle=true\"\n",
    "# str_parameter.format('1', today.strftime('%Y-%m-%d'), today.strftime('%Y-%m-%d'))"
   ]
  },
  {
   "cell_type": "code",
   "execution_count": null,
   "id": "eligible-league",
   "metadata": {},
   "outputs": [],
   "source": [
    "# Start to extract pdfs\n",
    "s = requests.Session()\n",
    "\n",
    "i = 1\n",
    "while True:\n",
    "    try:\n",
    "        r = s.post(URL_JUCHAO, data = str_parameter.format('1', yesterday.strftime('%Y-%m-%d'), today.strftime('%Y-%m-%d')), headers = HEADER, verify=False)\n",
    "        if r.status_code == 200 and len(r.text) > 0:\n",
    "            break\n",
    "        time.sleep(5 * i)\n",
    "        i = i + 1\n",
    "    except Exception as e:\n",
    "        print(e)\n",
    "        pass\n",
    "\n",
    "dic_result = r.json()\n",
    "lt_announcements = dic_result.get('announcements')\n",
    "\n",
    "if len(lt_announcements) > 0:\n",
    "    for announcement in lt_announcements:\n",
    "        print(announcement.get('secCode'), announcement.get('secName'), announcement.get('announcementTitle'))\n",
    "        if announcement.get('announcementTitle').find('法律意见') < 0:\n",
    "            urllib.request.urlretrieve('http://static.cninfo.com.cn/' + announcement.get('adjunctUrl'), today.strftime('%Y-%m-%d') + '/' + announcement.get('secCode') + '_' + announcement.get('secName') + '_' + announcement.get('announcementTitle').replace('<em>', '').replace('</em>','') + \".pdf\")\n",
    "\n",
    "print('Done')        "
   ]
  },
  {
   "cell_type": "code",
   "execution_count": null,
   "id": "colonial-federation",
   "metadata": {},
   "outputs": [],
   "source": []
  }
 ],
 "metadata": {
  "kernelspec": {
   "display_name": "Python 3",
   "language": "python",
   "name": "python3"
  },
  "language_info": {
   "codemirror_mode": {
    "name": "ipython",
    "version": 3
   },
   "file_extension": ".py",
   "mimetype": "text/x-python",
   "name": "python",
   "nbconvert_exporter": "python",
   "pygments_lexer": "ipython3",
   "version": "3.7.10"
  }
 },
 "nbformat": 4,
 "nbformat_minor": 5
}
